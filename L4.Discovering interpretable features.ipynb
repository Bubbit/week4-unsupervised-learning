{
 "cells": [
  {
   "cell_type": "markdown",
   "metadata": {},
   "source": [
    "<a href=\"https://colab.research.google.com/github/ML-Challenge/week4-unsupervised-learning/blob/master/L4.Discovering%20interpretable%20features.ipynb\" target=\"_parent\"><img src=\"https://colab.research.google.com/assets/colab-badge.svg\" /></a>"
   ]
  },
  {
   "cell_type": "markdown",
   "metadata": {},
   "source": [
    "In this lesson, we'll learn about a dimension reduction technique called \"Non-negative matrix factorization\" (\"NMF\") that expresses samples as combinations of interpretable parts. For example, it expresses documents as combinations of topics, and images in terms of commonly occurring visual patterns. We'll also learn to use NMF to build recommender systems that can find us similar articles to read, or musical artists that match our listening history!"
   ]
  },
  {
   "cell_type": "markdown",
   "metadata": {},
   "source": [
    "# Setup"
   ]
  },
  {
   "cell_type": "code",
   "execution_count": 1,
   "metadata": {
    "ExecuteTime": {
     "end_time": "2020-02-15T19:00:43.400823Z",
     "start_time": "2020-02-15T19:00:43.387719Z"
    }
   },
   "outputs": [],
   "source": [
    "# Download lesson datasets\n",
    "# Required if you're using Google Colab\n",
    "#!wget \"https://github.com/ML-Challenge/week4-unsupervised-learning/raw/master/datasets.zip\"\n",
    "#!unzip -o datasets.zip"
   ]
  },
  {
   "cell_type": "code",
   "execution_count": 2,
   "metadata": {
    "ExecuteTime": {
     "end_time": "2020-02-15T19:00:44.057125Z",
     "start_time": "2020-02-15T19:00:43.403715Z"
    }
   },
   "outputs": [],
   "source": [
    "# Import utils\n",
    "# We'll be using this module throughout the lesson\n",
    "import utils"
   ]
  },
  {
   "cell_type": "code",
   "execution_count": 3,
   "metadata": {
    "ExecuteTime": {
     "end_time": "2020-02-15T19:00:44.276482Z",
     "start_time": "2020-02-15T19:00:44.058977Z"
    }
   },
   "outputs": [],
   "source": [
    "# Import dependencies\n",
    "import pandas as pd\n",
    "import numpy as np\n",
    "\n",
    "import matplotlib.pyplot as plt\n",
    "# and setting the size of all plots.\n",
    "plt.rcParams['figure.figsize'] = [11, 7]"
   ]
  },
  {
   "cell_type": "markdown",
   "metadata": {},
   "source": [
    "# Non-negative matrix factorization (NMF)"
   ]
  },
  {
   "cell_type": "markdown",
   "metadata": {},
   "source": [
    "## NMF applied to Wikipedia articles"
   ]
  },
  {
   "cell_type": "markdown",
   "metadata": {},
   "source": [
    "Let's apply NMF, using the tf-idf word-frequency array of Wikipedia articles, given as a csr matrix `articles`. Here, we fit the model and transform the articles. In the next example, we'll explore the result."
   ]
  },
  {
   "cell_type": "code",
   "execution_count": 4,
   "metadata": {
    "ExecuteTime": {
     "end_time": "2020-02-15T19:00:44.718351Z",
     "start_time": "2020-02-15T19:00:44.278477Z"
    }
   },
   "outputs": [],
   "source": [
    "# Import NMF\n",
    "from sklearn.decomposition import NMF"
   ]
  },
  {
   "cell_type": "code",
   "execution_count": 5,
   "metadata": {
    "ExecuteTime": {
     "end_time": "2020-02-15T19:00:44.734285Z",
     "start_time": "2020-02-15T19:00:44.720295Z"
    }
   },
   "outputs": [],
   "source": [
    "# Create an NMF instance: model\n",
    "model = NMF(n_components=6)"
   ]
  },
  {
   "cell_type": "code",
   "execution_count": 6,
   "metadata": {
    "ExecuteTime": {
     "end_time": "2020-02-15T19:00:44.844962Z",
     "start_time": "2020-02-15T19:00:44.736252Z"
    }
   },
   "outputs": [
    {
     "data": {
      "text/plain": [
       "NMF(alpha=0.0, beta_loss='frobenius', init=None, l1_ratio=0.0, max_iter=200,\n",
       "    n_components=6, random_state=None, shuffle=False, solver='cd', tol=0.0001,\n",
       "    verbose=0)"
      ]
     },
     "execution_count": 6,
     "metadata": {},
     "output_type": "execute_result"
    }
   ],
   "source": [
    "# Fit the model to articles\n",
    "model.fit(utils.articles)"
   ]
  },
  {
   "cell_type": "code",
   "execution_count": 7,
   "metadata": {
    "ExecuteTime": {
     "end_time": "2020-02-15T19:00:44.860919Z",
     "start_time": "2020-02-15T19:00:44.848951Z"
    }
   },
   "outputs": [],
   "source": [
    "# Transform the articles: nmf_features\n",
    "nmf_features = model.transform(utils.articles)"
   ]
  },
  {
   "cell_type": "code",
   "execution_count": 8,
   "metadata": {
    "ExecuteTime": {
     "end_time": "2020-02-15T19:00:44.892834Z",
     "start_time": "2020-02-15T19:00:44.864909Z"
    }
   },
   "outputs": [
    {
     "name": "stdout",
     "output_type": "stream",
     "text": [
      "[[0.00000000e+00 0.00000000e+00 0.00000000e+00 0.00000000e+00\n",
      "  0.00000000e+00 4.40473924e-01]\n",
      " [0.00000000e+00 0.00000000e+00 0.00000000e+00 0.00000000e+00\n",
      "  0.00000000e+00 5.66615831e-01]\n",
      " [3.82012139e-03 0.00000000e+00 0.00000000e+00 0.00000000e+00\n",
      "  0.00000000e+00 3.98654504e-01]\n",
      " [0.00000000e+00 0.00000000e+00 0.00000000e+00 0.00000000e+00\n",
      "  0.00000000e+00 3.81747332e-01]\n",
      " [0.00000000e+00 0.00000000e+00 0.00000000e+00 0.00000000e+00\n",
      "  0.00000000e+00 4.85526224e-01]\n",
      " [1.29276412e-02 1.37892366e-02 7.76336168e-03 3.34443768e-02\n",
      "  0.00000000e+00 3.34528681e-01]\n",
      " [0.00000000e+00 0.00000000e+00 2.06745758e-02 0.00000000e+00\n",
      "  6.04422970e-03 3.59068094e-01]\n",
      " [0.00000000e+00 0.00000000e+00 0.00000000e+00 0.00000000e+00\n",
      "  0.00000000e+00 4.90985934e-01]\n",
      " [1.54256838e-02 1.42819900e-02 3.76639479e-03 2.37082029e-02\n",
      "  2.62592199e-02 4.80784014e-01]\n",
      " [1.11726225e-02 3.13683751e-02 3.09491046e-02 6.56917026e-02\n",
      "  1.96656269e-02 3.38295615e-01]\n",
      " [0.00000000e+00 0.00000000e+00 5.30728901e-01 0.00000000e+00\n",
      "  2.83650361e-02 0.00000000e+00]\n",
      " [0.00000000e+00 0.00000000e+00 3.56515673e-01 0.00000000e+00\n",
      "  0.00000000e+00 0.00000000e+00]\n",
      " [1.20114043e-02 6.50047948e-03 3.12250817e-01 6.09695259e-02\n",
      "  1.13849590e-02 1.92606578e-02]\n",
      " [3.93442234e-03 6.24445667e-03 3.42379361e-01 1.10755282e-02\n",
      "  0.00000000e+00 0.00000000e+00]\n",
      " [4.63770393e-03 0.00000000e+00 4.34922807e-01 0.00000000e+00\n",
      "  3.84235625e-02 3.08140514e-03]\n",
      " [0.00000000e+00 0.00000000e+00 4.83297730e-01 0.00000000e+00\n",
      "  0.00000000e+00 0.00000000e+00]\n",
      " [5.64954599e-03 1.83536415e-02 3.76539706e-01 3.25420553e-02\n",
      "  0.00000000e+00 1.13337096e-02]\n",
      " [0.00000000e+00 0.00000000e+00 4.80922353e-01 0.00000000e+00\n",
      "  0.00000000e+00 0.00000000e+00]\n",
      " [0.00000000e+00 9.01868686e-03 5.51017760e-01 0.00000000e+00\n",
      "  0.00000000e+00 0.00000000e+00]\n",
      " [0.00000000e+00 0.00000000e+00 4.65977942e-01 0.00000000e+00\n",
      "  0.00000000e+00 0.00000000e+00]\n",
      " [0.00000000e+00 1.14081446e-02 2.08659471e-02 5.17703318e-01\n",
      "  5.81348777e-02 1.37857669e-02]\n",
      " [0.00000000e+00 0.00000000e+00 0.00000000e+00 5.10412209e-01\n",
      "  0.00000000e+00 0.00000000e+00]\n",
      " [0.00000000e+00 5.60107062e-03 0.00000000e+00 4.22327668e-01\n",
      "  0.00000000e+00 0.00000000e+00]\n",
      " [0.00000000e+00 0.00000000e+00 0.00000000e+00 4.36697291e-01\n",
      "  0.00000000e+00 0.00000000e+00]\n",
      " [0.00000000e+00 0.00000000e+00 0.00000000e+00 4.98030495e-01\n",
      "  0.00000000e+00 0.00000000e+00]\n",
      " [9.88285039e-02 8.60047750e-02 3.91042998e-03 3.80970439e-01\n",
      "  4.39192475e-04 5.22167421e-03]\n",
      " [0.00000000e+00 0.00000000e+00 0.00000000e+00 5.72099167e-01\n",
      "  0.00000000e+00 7.13565827e-03]\n",
      " [1.31454253e-02 1.04853834e-02 0.00000000e+00 4.68848101e-01\n",
      "  0.00000000e+00 1.16312774e-02]\n",
      " [3.84507377e-03 0.00000000e+00 0.00000000e+00 5.75639408e-01\n",
      "  0.00000000e+00 0.00000000e+00]\n",
      " [2.25220501e-03 1.38737761e-03 0.00000000e+00 5.27880500e-01\n",
      "  1.20252227e-02 1.49487994e-02]\n",
      " [0.00000000e+00 4.07549702e-01 1.85717878e-03 0.00000000e+00\n",
      "  2.96580334e-03 4.52344704e-04]\n",
      " [1.53404349e-03 6.08175312e-01 5.22286753e-04 6.24775901e-03\n",
      "  1.18432559e-03 4.40077350e-04]\n",
      " [5.38759847e-03 2.65018042e-01 5.38520607e-04 1.86902835e-02\n",
      "  6.38585505e-03 2.90110958e-03]\n",
      " [0.00000000e+00 6.44918313e-01 0.00000000e+00 0.00000000e+00\n",
      "  0.00000000e+00 0.00000000e+00]\n",
      " [0.00000000e+00 6.08909250e-01 0.00000000e+00 0.00000000e+00\n",
      "  0.00000000e+00 0.00000000e+00]\n",
      " [0.00000000e+00 3.43686537e-01 0.00000000e+00 0.00000000e+00\n",
      "  3.97754317e-03 0.00000000e+00]\n",
      " [6.10441540e-03 3.15313999e-01 1.54882756e-02 0.00000000e+00\n",
      "  5.06192724e-03 4.74344456e-03]\n",
      " [6.47301209e-03 2.13329345e-01 9.49512703e-03 4.56924838e-02\n",
      "  1.71896860e-02 9.52083566e-03]\n",
      " [7.99059122e-03 4.67596916e-01 0.00000000e+00 2.43395293e-02\n",
      "  0.00000000e+00 0.00000000e+00]\n",
      " [0.00000000e+00 6.42822516e-01 0.00000000e+00 2.35826021e-03\n",
      "  0.00000000e+00 0.00000000e+00]\n",
      " [0.00000000e+00 0.00000000e+00 0.00000000e+00 0.00000000e+00\n",
      "  4.77031460e-01 0.00000000e+00]\n",
      " [0.00000000e+00 0.00000000e+00 0.00000000e+00 0.00000000e+00\n",
      "  4.94202856e-01 0.00000000e+00]\n",
      " [0.00000000e+00 2.99076100e-04 2.14493729e-03 0.00000000e+00\n",
      "  3.81737218e-01 5.83798232e-03]\n",
      " [0.00000000e+00 0.00000000e+00 0.00000000e+00 5.64626236e-03\n",
      "  5.42182726e-01 0.00000000e+00]\n",
      " [1.78040505e-03 7.84419821e-04 1.41630655e-02 4.59772262e-04\n",
      "  4.24256473e-01 0.00000000e+00]\n",
      " [0.00000000e+00 0.00000000e+00 0.00000000e+00 0.00000000e+00\n",
      "  5.11336696e-01 0.00000000e+00]\n",
      " [0.00000000e+00 0.00000000e+00 3.28394508e-03 0.00000000e+00\n",
      "  3.72846362e-01 0.00000000e+00]\n",
      " [0.00000000e+00 2.62087506e-04 3.61111075e-02 2.32312885e-04\n",
      "  2.30485786e-01 0.00000000e+00]\n",
      " [1.12505340e-02 2.12328327e-03 1.60975657e-02 1.02472236e-02\n",
      "  3.25426224e-01 3.75889149e-02]\n",
      " [0.00000000e+00 0.00000000e+00 0.00000000e+00 0.00000000e+00\n",
      "  4.18912847e-01 3.57734050e-04]\n",
      " [3.08339450e-01 0.00000000e+00 0.00000000e+00 0.00000000e+00\n",
      "  0.00000000e+00 0.00000000e+00]\n",
      " [3.68140970e-01 0.00000000e+00 0.00000000e+00 0.00000000e+00\n",
      "  0.00000000e+00 0.00000000e+00]\n",
      " [3.97909319e-01 2.81704177e-02 3.67018589e-03 1.70045618e-02\n",
      "  1.95946362e-03 2.11648769e-02]\n",
      " [3.75761043e-01 2.07521607e-03 0.00000000e+00 3.72108282e-02\n",
      "  0.00000000e+00 5.85940110e-03]\n",
      " [4.37989083e-01 0.00000000e+00 0.00000000e+00 0.00000000e+00\n",
      "  0.00000000e+00 0.00000000e+00]\n",
      " [4.57840125e-01 0.00000000e+00 0.00000000e+00 0.00000000e+00\n",
      "  0.00000000e+00 0.00000000e+00]\n",
      " [2.75452623e-01 4.46958403e-03 0.00000000e+00 5.29589909e-02\n",
      "  0.00000000e+00 1.91001677e-02]\n",
      " [4.45154166e-01 0.00000000e+00 0.00000000e+00 0.00000000e+00\n",
      "  5.48639707e-03 0.00000000e+00]\n",
      " [2.92714248e-01 1.33665335e-02 1.14265550e-02 1.05187027e-02\n",
      "  1.87676189e-01 9.23984677e-03]\n",
      " [3.78232712e-01 1.43970854e-02 0.00000000e+00 9.85117613e-02\n",
      "  1.35885744e-02 0.00000000e+00]]\n"
     ]
    }
   ],
   "source": [
    "# Print the NMF features\n",
    "print(nmf_features)"
   ]
  },
  {
   "cell_type": "markdown",
   "metadata": {},
   "source": [
    "## NMF features of the Wikipedia articles"
   ]
  },
  {
   "cell_type": "markdown",
   "metadata": {},
   "source": [
    "Now we will explore the NMF features we created in the previous example."
   ]
  },
  {
   "cell_type": "code",
   "execution_count": 9,
   "metadata": {
    "ExecuteTime": {
     "end_time": "2020-02-15T19:00:44.908791Z",
     "start_time": "2020-02-15T19:00:44.895826Z"
    }
   },
   "outputs": [],
   "source": [
    "# Create a pandas DataFrame: df\n",
    "df = pd.DataFrame(nmf_features, index=utils.titles)"
   ]
  },
  {
   "cell_type": "code",
   "execution_count": 10,
   "metadata": {
    "ExecuteTime": {
     "end_time": "2020-02-15T19:00:44.923751Z",
     "start_time": "2020-02-15T19:00:44.911783Z"
    }
   },
   "outputs": [
    {
     "name": "stdout",
     "output_type": "stream",
     "text": [
      "0    0.003845\n",
      "1    0.000000\n",
      "2    0.000000\n",
      "3    0.575639\n",
      "4    0.000000\n",
      "5    0.000000\n",
      "Name: Anne Hathaway, dtype: float64\n"
     ]
    }
   ],
   "source": [
    "# Print the row for 'Anne Hathaway'\n",
    "print(df.loc['Anne Hathaway'])"
   ]
  },
  {
   "cell_type": "code",
   "execution_count": 11,
   "metadata": {
    "ExecuteTime": {
     "end_time": "2020-02-15T19:00:44.939708Z",
     "start_time": "2020-02-15T19:00:44.926743Z"
    }
   },
   "outputs": [
    {
     "name": "stdout",
     "output_type": "stream",
     "text": [
      "0    0.000000\n",
      "1    0.005601\n",
      "2    0.000000\n",
      "3    0.422328\n",
      "4    0.000000\n",
      "5    0.000000\n",
      "Name: Denzel Washington, dtype: float64\n"
     ]
    }
   ],
   "source": [
    "# Print the row for 'Denzel Washington'\n",
    "print(df.loc['Denzel Washington'])"
   ]
  },
  {
   "cell_type": "markdown",
   "metadata": {},
   "source": [
    "When investigating the features, notice that for both actors, the NMF feature 3 has by far the highest value. This means that both articles are reconstructed using mainly the 3rd NMF component. In the next chapter, we'll see why: NMF components represent topics (for instance, acting!)."
   ]
  },
  {
   "cell_type": "markdown",
   "metadata": {},
   "source": [
    "# NMF learns interpretable parts"
   ]
  },
  {
   "cell_type": "markdown",
   "metadata": {},
   "source": [
    "## NMF learns topics of documents"
   ]
  },
  {
   "cell_type": "markdown",
   "metadata": {},
   "source": [
    "We learned that when NMF is applied to documents, the components correspond to topics of documents, and the NMF features reconstruct the documents from the topics. Let's verify this for the NMF model that we built earlier using the Wikipedia articles. Previously, we saw that the 3rd NMF feature value was high for the articles about actors Anne Hathaway and Denzel Washington. In this example, let's identify the topic of the corresponding NMF component."
   ]
  },
  {
   "cell_type": "code",
   "execution_count": 12,
   "metadata": {
    "ExecuteTime": {
     "end_time": "2020-02-15T19:00:44.955666Z",
     "start_time": "2020-02-15T19:00:44.942701Z"
    }
   },
   "outputs": [],
   "source": [
    "# Create a DataFrame: components_df\n",
    "components_df = pd.DataFrame(model.components_, columns=utils.words)"
   ]
  },
  {
   "cell_type": "code",
   "execution_count": 13,
   "metadata": {
    "ExecuteTime": {
     "end_time": "2020-02-15T19:00:44.970627Z",
     "start_time": "2020-02-15T19:00:44.957660Z"
    }
   },
   "outputs": [
    {
     "name": "stdout",
     "output_type": "stream",
     "text": [
      "(6, 13125)\n"
     ]
    }
   ],
   "source": [
    "# Print the shape of the DataFrame\n",
    "print(components_df.shape)"
   ]
  },
  {
   "cell_type": "code",
   "execution_count": 14,
   "metadata": {
    "ExecuteTime": {
     "end_time": "2020-02-15T19:00:44.986583Z",
     "start_time": "2020-02-15T19:00:44.973618Z"
    }
   },
   "outputs": [],
   "source": [
    "# Select row 3: component\n",
    "component = components_df.iloc[3]"
   ]
  },
  {
   "cell_type": "code",
   "execution_count": 15,
   "metadata": {
    "ExecuteTime": {
     "end_time": "2020-02-15T19:00:45.002541Z",
     "start_time": "2020-02-15T19:00:44.989575Z"
    }
   },
   "outputs": [
    {
     "name": "stdout",
     "output_type": "stream",
     "text": [
      "film       0.627954\n",
      "award      0.253163\n",
      "starred    0.245314\n",
      "role       0.211477\n",
      "actress    0.186421\n",
      "Name: 3, dtype: float64\n"
     ]
    }
   ],
   "source": [
    "# Print result of nlargest\n",
    "print(component.nlargest())"
   ]
  },
  {
   "cell_type": "markdown",
   "metadata": {},
   "source": [
    "Take a moment to recognise the topic that the articles about Anne Hathaway and Denzel Washington have in common"
   ]
  },
  {
   "cell_type": "markdown",
   "metadata": {},
   "source": [
    "## Explore the LED digits dataset"
   ]
  },
  {
   "cell_type": "markdown",
   "metadata": {},
   "source": [
    "In the following examples, we'll use NMF to decompose grayscale images into their commonly occurring patterns. Firstly, we'll explore the image dataset and see how it is encoded as an array. We are given 100 images as a 2D array 'leds', where each row represents a single 13x8 image. The images in your dataset are pictures of a LED digital display."
   ]
  },
  {
   "cell_type": "code",
   "execution_count": 16,
   "metadata": {
    "ExecuteTime": {
     "end_time": "2020-02-15T19:00:45.017500Z",
     "start_time": "2020-02-15T19:00:45.004534Z"
    }
   },
   "outputs": [],
   "source": [
    "# Select the 0th row: digit\n",
    "digit = utils.leds[0,:]"
   ]
  },
  {
   "cell_type": "code",
   "execution_count": 17,
   "metadata": {
    "ExecuteTime": {
     "end_time": "2020-02-15T19:00:45.032462Z",
     "start_time": "2020-02-15T19:00:45.020493Z"
    }
   },
   "outputs": [
    {
     "name": "stdout",
     "output_type": "stream",
     "text": [
      "[0. 0. 0. 0. 0. 0. 0. 0. 0. 0. 1. 1. 1. 1. 0. 0. 0. 0. 0. 0. 0. 0. 1. 0.\n",
      " 0. 0. 0. 0. 0. 0. 1. 0. 0. 0. 0. 0. 0. 0. 1. 0. 0. 0. 0. 0. 0. 0. 1. 0.\n",
      " 0. 0. 0. 0. 0. 0. 0. 0. 0. 0. 0. 0. 0. 0. 1. 0. 0. 0. 0. 0. 0. 0. 1. 0.\n",
      " 0. 0. 0. 0. 0. 0. 1. 0. 0. 0. 0. 0. 0. 0. 1. 0. 0. 0. 0. 0. 0. 0. 0. 0.\n",
      " 0. 0. 0. 0. 0. 0. 0. 0.]\n"
     ]
    }
   ],
   "source": [
    "# Print digit\n",
    "print(digit)"
   ]
  },
  {
   "cell_type": "code",
   "execution_count": 18,
   "metadata": {
    "ExecuteTime": {
     "end_time": "2020-02-15T19:00:45.048418Z",
     "start_time": "2020-02-15T19:00:45.034455Z"
    }
   },
   "outputs": [],
   "source": [
    "# Reshape digit to a 13x8 array: bitmap\n",
    "bitmap = digit.reshape(13,8)"
   ]
  },
  {
   "cell_type": "code",
   "execution_count": 19,
   "metadata": {
    "ExecuteTime": {
     "end_time": "2020-02-15T19:00:45.063378Z",
     "start_time": "2020-02-15T19:00:45.051409Z"
    }
   },
   "outputs": [
    {
     "name": "stdout",
     "output_type": "stream",
     "text": [
      "[[0. 0. 0. 0. 0. 0. 0. 0.]\n",
      " [0. 0. 1. 1. 1. 1. 0. 0.]\n",
      " [0. 0. 0. 0. 0. 0. 1. 0.]\n",
      " [0. 0. 0. 0. 0. 0. 1. 0.]\n",
      " [0. 0. 0. 0. 0. 0. 1. 0.]\n",
      " [0. 0. 0. 0. 0. 0. 1. 0.]\n",
      " [0. 0. 0. 0. 0. 0. 0. 0.]\n",
      " [0. 0. 0. 0. 0. 0. 1. 0.]\n",
      " [0. 0. 0. 0. 0. 0. 1. 0.]\n",
      " [0. 0. 0. 0. 0. 0. 1. 0.]\n",
      " [0. 0. 0. 0. 0. 0. 1. 0.]\n",
      " [0. 0. 0. 0. 0. 0. 0. 0.]\n",
      " [0. 0. 0. 0. 0. 0. 0. 0.]]\n"
     ]
    }
   ],
   "source": [
    "# Print bitmap\n",
    "print(bitmap)"
   ]
  },
  {
   "cell_type": "code",
   "execution_count": 20,
   "metadata": {
    "ExecuteTime": {
     "end_time": "2020-02-15T19:00:45.270847Z",
     "start_time": "2020-02-15T19:00:45.065373Z"
    }
   },
   "outputs": [
    {
     "data": {
      "image/png": "[encoded data removed]",
      "text/plain": [
       "<Figure size 792x504 with 2 Axes>"
      ]
     },
     "metadata": {
      "needs_background": "light"
     },
     "output_type": "display_data"
    }
   ],
   "source": [
    "# Use plt.imshow to display bitmap\n",
    "plt.imshow(bitmap, cmap='gray', interpolation='nearest')\n",
    "plt.colorbar()\n",
    "plt.show()"
   ]
  },
  {
   "cell_type": "markdown",
   "metadata": {},
   "source": [
    "## NMF learns the parts of images"
   ]
  },
  {
   "cell_type": "markdown",
   "metadata": {},
   "source": [
    "Now let's use what we've learned about NMF to decompose the digits dataset."
   ]
  },
  {
   "cell_type": "code",
   "execution_count": 21,
   "metadata": {
    "ExecuteTime": {
     "end_time": "2020-02-15T19:00:45.286806Z",
     "start_time": "2020-02-15T19:00:45.272818Z"
    }
   },
   "outputs": [],
   "source": [
    "def show_as_image(digit):\n",
    "    bitmap = digit.reshape((13, 8))\n",
    "    plt.figure()\n",
    "    plt.imshow(bitmap, cmap='gray', interpolation='nearest')\n",
    "    plt.colorbar()\n",
    "    plt.show()"
   ]
  },
  {
   "cell_type": "code",
   "execution_count": 22,
   "metadata": {
    "ExecuteTime": {
     "end_time": "2020-02-15T19:00:45.302777Z",
     "start_time": "2020-02-15T19:00:45.290769Z"
    }
   },
   "outputs": [],
   "source": [
    "# Create an NMF model: model\n",
    "model = NMF(n_components=7)"
   ]
  },
  {
   "cell_type": "code",
   "execution_count": 23,
   "metadata": {
    "ExecuteTime": {
     "end_time": "2020-02-15T19:00:45.318382Z",
     "start_time": "2020-02-15T19:00:45.306734Z"
    }
   },
   "outputs": [],
   "source": [
    "# Apply fit_transform to samples: features\n",
    "features = model.fit_transform(utils.leds)"
   ]
  },
  {
   "cell_type": "code",
   "execution_count": 24,
   "metadata": {
    "ExecuteTime": {
     "end_time": "2020-02-15T19:00:46.744953Z",
     "start_time": "2020-02-15T19:00:45.320376Z"
    },
    "scrolled": false
   },
   "outputs": [
    {
     "data": {
      "image/png": "[encoded data removed]",
      "text/plain": [
       "<Figure size 792x504 with 2 Axes>"
      ]
     },
     "metadata": {
      "needs_background": "light"
     },
     "output_type": "display_data"
    },
    {
     "data": {
      "image/png": "[encoded data removed]",
      "text/plain": [
       "<Figure size 792x504 with 2 Axes>"
      ]
     },
     "metadata": {
      "needs_background": "light"
     },
     "output_type": "display_data"
    },
    {
     "data": {
      "image/png": "[encoded data removed]",
      "text/plain": [
       "<Figure size 792x504 with 2 Axes>"
      ]
     },
     "metadata": {
      "needs_background": "light"
     },
     "output_type": "display_data"
    },
    {
     "data": {
      "image/png": "[encoded data removed]",
      "text/plain": [
       "<Figure size 792x504 with 2 Axes>"
      ]
     },
     "metadata": {
      "needs_background": "light"
     },
     "output_type": "display_data"
    },
    {
     "data": {
      "image/png": "[encoded data removed]",
      "text/plain": [
       "<Figure size 792x504 with 2 Axes>"
      ]
     },
     "metadata": {
      "needs_background": "light"
     },
     "output_type": "display_data"
    },
    {
     "data": {
      "image/png": "[encoded data removed]",
      "text/plain": [
       "<Figure size 792x504 with 2 Axes>"
      ]
     },
     "metadata": {
      "needs_background": "light"
     },
     "output_type": "display_data"
    },
    {
     "data": {
      "image/png": "[encoded data removed]",
      "text/plain": [
       "<Figure size 792x504 with 2 Axes>"
      ]
     },
     "metadata": {
      "needs_background": "light"
     },
     "output_type": "display_data"
    }
   ],
   "source": [
    "# Call show_as_image on each component\n",
    "for component in model.components_:\n",
    "    show_as_image(component)"
   ]
  },
  {
   "cell_type": "code",
   "execution_count": 25,
   "metadata": {
    "ExecuteTime": {
     "end_time": "2020-02-15T19:00:46.760878Z",
     "start_time": "2020-02-15T19:00:46.746917Z"
    }
   },
   "outputs": [],
   "source": [
    "# Assign the 0th row of features: digit_features\n",
    "digit_features = features[0,:]"
   ]
  },
  {
   "cell_type": "code",
   "execution_count": 26,
   "metadata": {
    "ExecuteTime": {
     "end_time": "2020-02-15T19:00:46.776834Z",
     "start_time": "2020-02-15T19:00:46.763868Z"
    }
   },
   "outputs": [
    {
     "name": "stdout",
     "output_type": "stream",
     "text": [
      "[4.76823559e-01 0.00000000e+00 0.00000000e+00 5.90605054e-01\n",
      " 4.81559442e-01 0.00000000e+00 7.37557191e-16]\n"
     ]
    }
   ],
   "source": [
    "# Print digit_features\n",
    "print(digit_features)"
   ]
  },
  {
   "cell_type": "markdown",
   "metadata": {},
   "source": [
    "Take a moment to look through the plots and notice how NMF has expressed the digit as a sum of the components!"
   ]
  },
  {
   "cell_type": "markdown",
   "metadata": {},
   "source": [
    "## PCA doesn't learn parts"
   ]
  },
  {
   "cell_type": "markdown",
   "metadata": {},
   "source": [
    "Unlike NMF, PCA doesn't learn the parts of things. Its components do not correspond to topics (in the case of documents) or to parts of images, when trained on images. Let's verify this by inspecting the components of a PCA model fit to the dataset of LED digit images from the previous example. The images are available as a 2D array `leds`. Also available is a modified version of the show_as_image() function which colors a pixel red if the value is negative."
   ]
  },
  {
   "cell_type": "code",
   "execution_count": 27,
   "metadata": {
    "ExecuteTime": {
     "end_time": "2020-02-15T19:00:46.792791Z",
     "start_time": "2020-02-15T19:00:46.780826Z"
    }
   },
   "outputs": [],
   "source": [
    "def show_as_image(vector):\n",
    "    \"\"\"\n",
    "    Given a 1d vector representing an image, display that image in \n",
    "    black and white.  If there are negative values, then use red for \n",
    "    that pixel.\n",
    "    \"\"\"\n",
    "    bitmap = vector.reshape((13, 8))  # make a square array\n",
    "    bitmap /= np.abs(vector).max()  # normalise\n",
    "    bitmap = bitmap[:,:,np.newaxis]\n",
    "    rgb_layers = [np.abs(bitmap)] + [bitmap.clip(0)] * 2\n",
    "    rgb_bitmap = np.concatenate(rgb_layers, axis=-1)\n",
    "    plt.imshow(rgb_bitmap, interpolation='nearest')\n",
    "    plt.xticks([])\n",
    "    plt.yticks([])\n",
    "    plt.show()"
   ]
  },
  {
   "cell_type": "code",
   "execution_count": 28,
   "metadata": {
    "ExecuteTime": {
     "end_time": "2020-02-15T19:00:46.807752Z",
     "start_time": "2020-02-15T19:00:46.795802Z"
    }
   },
   "outputs": [],
   "source": [
    "# Import PCA\n",
    "from sklearn.decomposition import PCA"
   ]
  },
  {
   "cell_type": "code",
   "execution_count": 29,
   "metadata": {
    "ExecuteTime": {
     "end_time": "2020-02-15T19:00:46.823714Z",
     "start_time": "2020-02-15T19:00:46.809749Z"
    }
   },
   "outputs": [],
   "source": [
    "# Create a PCA instance: model\n",
    "model = PCA(n_components=7)"
   ]
  },
  {
   "cell_type": "code",
   "execution_count": 30,
   "metadata": {
    "ExecuteTime": {
     "end_time": "2020-02-15T19:00:46.839699Z",
     "start_time": "2020-02-15T19:00:46.825705Z"
    }
   },
   "outputs": [],
   "source": [
    "# Apply fit_transform to samples: features\n",
    "features = model.fit_transform(utils.leds)"
   ]
  },
  {
   "cell_type": "code",
   "execution_count": 31,
   "metadata": {
    "ExecuteTime": {
     "end_time": "2020-02-15T19:00:47.282586Z",
     "start_time": "2020-02-15T19:00:46.841660Z"
    },
    "scrolled": false
   },
   "outputs": [
    {
     "data": {
      "image/png": "[encoded data removed]",
      "text/plain": [
       "<Figure size 792x504 with 1 Axes>"
      ]
     },
     "metadata": {},
     "output_type": "display_data"
    },
    {
     "data": {
      "image/png": "[encoded data removed]",
      "text/plain": [
       "<Figure size 792x504 with 1 Axes>"
      ]
     },
     "metadata": {},
     "output_type": "display_data"
    },
    {
     "data": {
      "image/png": "[encoded data removed]",
      "text/plain": [
       "<Figure size 792x504 with 1 Axes>"
      ]
     },
     "metadata": {},
     "output_type": "display_data"
    },
    {
     "data": {
      "image/png": "[encoded data removed]",
      "text/plain": [
       "<Figure size 792x504 with 1 Axes>"
      ]
     },
     "metadata": {},
     "output_type": "display_data"
    },
    {
     "data": {
      "image/png": "[encoded data removed]",
      "text/plain": [
       "<Figure size 792x504 with 1 Axes>"
      ]
     },
     "metadata": {},
     "output_type": "display_data"
    },
    {
     "data": {
      "image/png": "[encoded data removed]",
      "text/plain": [
       "<Figure size 792x504 with 1 Axes>"
      ]
     },
     "metadata": {},
     "output_type": "display_data"
    },
    {
     "data": {
      "image/png": "[encoded data removed]",
      "text/plain": [
       "<Figure size 792x504 with 1 Axes>"
      ]
     },
     "metadata": {},
     "output_type": "display_data"
    }
   ],
   "source": [
    "# Call show_as_image on each component\n",
    "for component in model.components_:\n",
    "    show_as_image(component)"
   ]
  },
  {
   "cell_type": "markdown",
   "metadata": {},
   "source": [
    "Notice that the components of PCA do not represent meaningful parts of images of LED digits!"
   ]
  },
  {
   "cell_type": "markdown",
   "metadata": {},
   "source": [
    "# Building recommender systems using NMF"
   ]
  },
  {
   "cell_type": "markdown",
   "metadata": {},
   "source": [
    "## Which articles are similar to 'Cristiano Ronaldo'?"
   ]
  },
  {
   "cell_type": "markdown",
   "metadata": {},
   "source": [
    "We learned how to use NMF features and the cosine similarity to find similar articles. Let's apply this to our NMF model for popular Wikipedia articles, by finding the articles most similar to the article about the footballer Cristiano Ronaldo."
   ]
  },
  {
   "cell_type": "code",
   "execution_count": 32,
   "metadata": {
    "ExecuteTime": {
     "end_time": "2020-02-15T19:00:47.298508Z",
     "start_time": "2020-02-15T19:00:47.284544Z"
    }
   },
   "outputs": [],
   "source": [
    "# Perform the necessary imports\n",
    "from sklearn.preprocessing import normalize"
   ]
  },
  {
   "cell_type": "code",
   "execution_count": 33,
   "metadata": {
    "ExecuteTime": {
     "end_time": "2020-02-15T19:00:47.313467Z",
     "start_time": "2020-02-15T19:00:47.302502Z"
    }
   },
   "outputs": [],
   "source": [
    "# Normalize the NMF features: norm_features\n",
    "norm_features = normalize(nmf_features)"
   ]
  },
  {
   "cell_type": "code",
   "execution_count": 34,
   "metadata": {
    "ExecuteTime": {
     "end_time": "2020-02-15T19:00:47.329425Z",
     "start_time": "2020-02-15T19:00:47.317456Z"
    }
   },
   "outputs": [],
   "source": [
    "# Create a DataFrame: df\n",
    "df = pd.DataFrame(norm_features, index=utils.titles)"
   ]
  },
  {
   "cell_type": "code",
   "execution_count": 35,
   "metadata": {
    "ExecuteTime": {
     "end_time": "2020-02-15T19:00:47.344385Z",
     "start_time": "2020-02-15T19:00:47.332421Z"
    }
   },
   "outputs": [],
   "source": [
    "# Select the row corresponding to 'Cristiano Ronaldo': article\n",
    "article = df.loc['Cristiano Ronaldo']"
   ]
  },
  {
   "cell_type": "code",
   "execution_count": 36,
   "metadata": {
    "ExecuteTime": {
     "end_time": "2020-02-15T19:00:47.360375Z",
     "start_time": "2020-02-15T19:00:47.347385Z"
    }
   },
   "outputs": [],
   "source": [
    "# Compute the dot products: similarities\n",
    "similarities = df.dot(article)"
   ]
  },
  {
   "cell_type": "code",
   "execution_count": 37,
   "metadata": {
    "ExecuteTime": {
     "end_time": "2020-02-15T19:00:47.376332Z",
     "start_time": "2020-02-15T19:00:47.362342Z"
    }
   },
   "outputs": [
    {
     "name": "stdout",
     "output_type": "stream",
     "text": [
      "Cristiano Ronaldo                1.000000\n",
      "Franck Ribéry                    0.999972\n",
      "Radamel Falcao                   0.999942\n",
      "Zlatan Ibrahimović               0.999942\n",
      "France national football team    0.999923\n",
      "dtype: float64\n"
     ]
    }
   ],
   "source": [
    "# Display those with the largest cosine similarity\n",
    "print(similarities.nlargest())"
   ]
  },
  {
   "cell_type": "markdown",
   "metadata": {},
   "source": [
    "## Recommend musical artists part I"
   ]
  },
  {
   "cell_type": "markdown",
   "metadata": {},
   "source": [
    "In this example and the next, we'll use what we've learned about NMF to recommend popular music artists! We are given a sparse array artists whose rows correspond to `artists` and whose column correspond to users. The entries give the number of times each artist was listened to by each user."
   ]
  },
  {
   "cell_type": "markdown",
   "metadata": {},
   "source": [
    "In this example, we'll build a pipeline and transform the array into normalized NMF features. The first step in the pipeline, `MaxAbsScaler`, transforms the data so that all users have the same influence on the model, regardless of how many different artists they've listened to. In the next example, we'll use the resulting normalized NMF features for recommendation!"
   ]
  },
  {
   "cell_type": "code",
   "execution_count": 38,
   "metadata": {
    "ExecuteTime": {
     "end_time": "2020-02-15T19:00:47.392290Z",
     "start_time": "2020-02-15T19:00:47.378294Z"
    }
   },
   "outputs": [],
   "source": [
    "# Perform the necessary imports\n",
    "from sklearn.decomposition import NMF\n",
    "from sklearn.preprocessing import Normalizer, MaxAbsScaler\n",
    "from sklearn.pipeline import make_pipeline"
   ]
  },
  {
   "cell_type": "code",
   "execution_count": 39,
   "metadata": {
    "ExecuteTime": {
     "end_time": "2020-02-15T19:00:47.408239Z",
     "start_time": "2020-02-15T19:00:47.395248Z"
    }
   },
   "outputs": [],
   "source": [
    "# Create a MaxAbsScaler: scaler\n",
    "scaler = MaxAbsScaler()"
   ]
  },
  {
   "cell_type": "code",
   "execution_count": 40,
   "metadata": {
    "ExecuteTime": {
     "end_time": "2020-02-15T19:00:47.424198Z",
     "start_time": "2020-02-15T19:00:47.410210Z"
    }
   },
   "outputs": [],
   "source": [
    "# Create an NMF model: nmf\n",
    "nmf = NMF(n_components=20)"
   ]
  },
  {
   "cell_type": "code",
   "execution_count": 41,
   "metadata": {
    "ExecuteTime": {
     "end_time": "2020-02-15T19:00:47.440154Z",
     "start_time": "2020-02-15T19:00:47.426167Z"
    }
   },
   "outputs": [],
   "source": [
    "# Create a Normalizer: normalizer\n",
    "normalizer = Normalizer()"
   ]
  },
  {
   "cell_type": "code",
   "execution_count": 42,
   "metadata": {
    "ExecuteTime": {
     "end_time": "2020-02-15T19:00:47.456086Z",
     "start_time": "2020-02-15T19:00:47.442124Z"
    }
   },
   "outputs": [],
   "source": [
    "# Create a pipeline: pipeline\n",
    "pipeline = make_pipeline(scaler, nmf, normalizer)"
   ]
  },
  {
   "cell_type": "code",
   "execution_count": 43,
   "metadata": {
    "ExecuteTime": {
     "end_time": "2020-02-15T19:00:47.501964Z",
     "start_time": "2020-02-15T19:00:47.458081Z"
    }
   },
   "outputs": [],
   "source": [
    "# Apply fit_transform to artists: norm_features\n",
    "norm_features = pipeline.fit_transform(utils.artists)"
   ]
  },
  {
   "cell_type": "markdown",
   "metadata": {},
   "source": [
    "Now that we've computed the normalized NMF features, we'll use them in the next example to recommend musical artists!"
   ]
  },
  {
   "cell_type": "markdown",
   "metadata": {},
   "source": [
    "## Recommend musical artists part II"
   ]
  },
  {
   "cell_type": "markdown",
   "metadata": {},
   "source": [
    "Suppose we are big fans of Dr. Dre - which other musicial artists might we like? Let's use the NMF features from the previous example and the cosine similarity to find similar musical artists. The names of the musical artists are available as the list `artist_names`."
   ]
  },
  {
   "cell_type": "code",
   "execution_count": 60,
   "metadata": {
    "ExecuteTime": {
     "end_time": "2020-02-15T19:02:31.266697Z",
     "start_time": "2020-02-15T19:02:31.259737Z"
    }
   },
   "outputs": [],
   "source": [
    "# Create a DataFrame: df\n",
    "df = pd.DataFrame(norm_features, index=utils.artist_names)"
   ]
  },
  {
   "cell_type": "code",
   "execution_count": 61,
   "metadata": {
    "ExecuteTime": {
     "end_time": "2020-02-15T19:02:34.888896Z",
     "start_time": "2020-02-15T19:02:34.880940Z"
    }
   },
   "outputs": [],
   "source": [
    "# Select row of 'Dr. Dre': artist\n",
    "artist = df.loc['Dr. Dre']"
   ]
  },
  {
   "cell_type": "code",
   "execution_count": 62,
   "metadata": {
    "ExecuteTime": {
     "end_time": "2020-02-15T19:02:35.999807Z",
     "start_time": "2020-02-15T19:02:35.986665Z"
    }
   },
   "outputs": [],
   "source": [
    "# Compute cosine similarities: similarities\n",
    "similarities = df.dot(artist)"
   ]
  },
  {
   "cell_type": "code",
   "execution_count": 63,
   "metadata": {
    "ExecuteTime": {
     "end_time": "2020-02-15T19:02:37.033753Z",
     "start_time": "2020-02-15T19:02:37.020798Z"
    }
   },
   "outputs": [
    {
     "name": "stdout",
     "output_type": "stream",
     "text": [
      "Dr. Dre     1.000000\n",
      "50 Cent     0.927693\n",
      "Ludacris    0.901790\n",
      "Eminem      0.887632\n",
      "2Pac        0.874891\n",
      "dtype: float64\n"
     ]
    }
   ],
   "source": [
    "# Display those with highest cosine similarity\n",
    "print(similarities.nlargest())"
   ]
  },
  {
   "cell_type": "markdown",
   "metadata": {},
   "source": [
    "# Final thoughts"
   ]
  },
  {
   "cell_type": "code",
   "execution_count": null,
   "metadata": {},
   "outputs": [],
   "source": []
  }
 ],
 "metadata": {
  "kernelspec": {
   "display_name": "Python 3",
   "language": "python",
   "name": "python3"
  },
  "language_info": {
   "codemirror_mode": {
    "name": "ipython",
    "version": 3
   },
   "file_extension": ".py",
   "mimetype": "text/x-python",
   "name": "python",
   "nbconvert_exporter": "python",
   "pygments_lexer": "ipython3",
   "version": "3.7.6"
  },
  "toc": {
   "base_numbering": 1,
   "nav_menu": {},
   "number_sections": true,
   "sideBar": true,
   "skip_h1_title": false,
   "title_cell": "Table of Contents",
   "title_sidebar": "Contents",
   "toc_cell": false,
   "toc_position": {},
   "toc_section_display": true,
   "toc_window_display": false
  },
  "varInspector": {
   "cols": {
    "lenName": 16,
    "lenType": 16,
    "lenVar": 40
   },
   "kernels_config": {
    "python": {
     "delete_cmd_postfix": "",
     "delete_cmd_prefix": "del ",
     "library": "var_list.py",
     "varRefreshCmd": "print(var_dic_list())"
    },
    "r": {
     "delete_cmd_postfix": ") ",
     "delete_cmd_prefix": "rm(",
     "library": "var_list.r",
     "varRefreshCmd": "cat(var_dic_list()) "
    }
   },
   "types_to_exclude": [
    "module",
    "function",
    "builtin_function_or_method",
    "instance",
    "_Feature"
   ],
   "window_display": false
  }
 },
 "nbformat": 4,
 "nbformat_minor": 4
}
